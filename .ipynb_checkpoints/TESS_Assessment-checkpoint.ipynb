{
 "cells": [
  {
   "cell_type": "markdown",
   "id": "4a1af014",
   "metadata": {},
   "source": [
    "IMPORT REQUIRED LIBRARY"
   ]
  },
  {
   "cell_type": "code",
   "execution_count": 1,
   "id": "09f3bdc0",
   "metadata": {},
   "outputs": [],
   "source": [
    "import pandas as pd\n",
    "import numpy as np\n",
    "import copy as cp\n",
    "import matplotlib.pyplot as plt \n",
    "import seaborn as sns"
   ]
  },
  {
   "cell_type": "markdown",
   "id": "4756287f",
   "metadata": {},
   "source": [
    "IMPORT DATASET"
   ]
  },
  {
   "cell_type": "code",
   "execution_count": 2,
   "id": "06c4ec80",
   "metadata": {
    "scrolled": false
   },
   "outputs": [
    {
     "data": {
      "text/html": [
       "<div>\n",
       "<style scoped>\n",
       "    .dataframe tbody tr th:only-of-type {\n",
       "        vertical-align: middle;\n",
       "    }\n",
       "\n",
       "    .dataframe tbody tr th {\n",
       "        vertical-align: top;\n",
       "    }\n",
       "\n",
       "    .dataframe thead th {\n",
       "        text-align: right;\n",
       "    }\n",
       "</style>\n",
       "<table border=\"1\" class=\"dataframe\">\n",
       "  <thead>\n",
       "    <tr style=\"text-align: right;\">\n",
       "      <th></th>\n",
       "      <th>LIMIT_BAL</th>\n",
       "      <th>SEX</th>\n",
       "      <th>EDUCATION</th>\n",
       "      <th>MARRIAGE</th>\n",
       "      <th>AGE</th>\n",
       "      <th>PAY_0</th>\n",
       "      <th>PAY_2</th>\n",
       "      <th>PAY_3</th>\n",
       "      <th>PAY_4</th>\n",
       "      <th>PAY_5</th>\n",
       "      <th>...</th>\n",
       "      <th>BILL_AMT4</th>\n",
       "      <th>BILL_AMT5</th>\n",
       "      <th>BILL_AMT6</th>\n",
       "      <th>PAY_AMT1</th>\n",
       "      <th>PAY_AMT2</th>\n",
       "      <th>PAY_AMT3</th>\n",
       "      <th>PAY_AMT4</th>\n",
       "      <th>PAY_AMT5</th>\n",
       "      <th>PAY_AMT6</th>\n",
       "      <th>default payment next month</th>\n",
       "    </tr>\n",
       "    <tr>\n",
       "      <th>ID</th>\n",
       "      <th></th>\n",
       "      <th></th>\n",
       "      <th></th>\n",
       "      <th></th>\n",
       "      <th></th>\n",
       "      <th></th>\n",
       "      <th></th>\n",
       "      <th></th>\n",
       "      <th></th>\n",
       "      <th></th>\n",
       "      <th></th>\n",
       "      <th></th>\n",
       "      <th></th>\n",
       "      <th></th>\n",
       "      <th></th>\n",
       "      <th></th>\n",
       "      <th></th>\n",
       "      <th></th>\n",
       "      <th></th>\n",
       "      <th></th>\n",
       "      <th></th>\n",
       "    </tr>\n",
       "  </thead>\n",
       "  <tbody>\n",
       "    <tr>\n",
       "      <th>1</th>\n",
       "      <td>20000</td>\n",
       "      <td>2</td>\n",
       "      <td>2</td>\n",
       "      <td>1</td>\n",
       "      <td>24</td>\n",
       "      <td>2</td>\n",
       "      <td>2</td>\n",
       "      <td>-1</td>\n",
       "      <td>-1</td>\n",
       "      <td>-2</td>\n",
       "      <td>...</td>\n",
       "      <td>0</td>\n",
       "      <td>0</td>\n",
       "      <td>0</td>\n",
       "      <td>0</td>\n",
       "      <td>689</td>\n",
       "      <td>0</td>\n",
       "      <td>0</td>\n",
       "      <td>0</td>\n",
       "      <td>0</td>\n",
       "      <td>1</td>\n",
       "    </tr>\n",
       "    <tr>\n",
       "      <th>2</th>\n",
       "      <td>120000</td>\n",
       "      <td>2</td>\n",
       "      <td>2</td>\n",
       "      <td>2</td>\n",
       "      <td>26</td>\n",
       "      <td>-1</td>\n",
       "      <td>2</td>\n",
       "      <td>0</td>\n",
       "      <td>0</td>\n",
       "      <td>0</td>\n",
       "      <td>...</td>\n",
       "      <td>3272</td>\n",
       "      <td>3455</td>\n",
       "      <td>3261</td>\n",
       "      <td>0</td>\n",
       "      <td>1000</td>\n",
       "      <td>1000</td>\n",
       "      <td>1000</td>\n",
       "      <td>0</td>\n",
       "      <td>2000</td>\n",
       "      <td>1</td>\n",
       "    </tr>\n",
       "    <tr>\n",
       "      <th>3</th>\n",
       "      <td>90000</td>\n",
       "      <td>2</td>\n",
       "      <td>2</td>\n",
       "      <td>2</td>\n",
       "      <td>34</td>\n",
       "      <td>0</td>\n",
       "      <td>0</td>\n",
       "      <td>0</td>\n",
       "      <td>0</td>\n",
       "      <td>0</td>\n",
       "      <td>...</td>\n",
       "      <td>14331</td>\n",
       "      <td>14948</td>\n",
       "      <td>15549</td>\n",
       "      <td>1518</td>\n",
       "      <td>1500</td>\n",
       "      <td>1000</td>\n",
       "      <td>1000</td>\n",
       "      <td>1000</td>\n",
       "      <td>5000</td>\n",
       "      <td>0</td>\n",
       "    </tr>\n",
       "    <tr>\n",
       "      <th>4</th>\n",
       "      <td>50000</td>\n",
       "      <td>2</td>\n",
       "      <td>2</td>\n",
       "      <td>1</td>\n",
       "      <td>37</td>\n",
       "      <td>0</td>\n",
       "      <td>0</td>\n",
       "      <td>0</td>\n",
       "      <td>0</td>\n",
       "      <td>0</td>\n",
       "      <td>...</td>\n",
       "      <td>28314</td>\n",
       "      <td>28959</td>\n",
       "      <td>29547</td>\n",
       "      <td>2000</td>\n",
       "      <td>2019</td>\n",
       "      <td>1200</td>\n",
       "      <td>1100</td>\n",
       "      <td>1069</td>\n",
       "      <td>1000</td>\n",
       "      <td>0</td>\n",
       "    </tr>\n",
       "    <tr>\n",
       "      <th>5</th>\n",
       "      <td>50000</td>\n",
       "      <td>1</td>\n",
       "      <td>2</td>\n",
       "      <td>1</td>\n",
       "      <td>57</td>\n",
       "      <td>-1</td>\n",
       "      <td>0</td>\n",
       "      <td>-1</td>\n",
       "      <td>0</td>\n",
       "      <td>0</td>\n",
       "      <td>...</td>\n",
       "      <td>20940</td>\n",
       "      <td>19146</td>\n",
       "      <td>19131</td>\n",
       "      <td>2000</td>\n",
       "      <td>36681</td>\n",
       "      <td>10000</td>\n",
       "      <td>9000</td>\n",
       "      <td>689</td>\n",
       "      <td>679</td>\n",
       "      <td>0</td>\n",
       "    </tr>\n",
       "    <tr>\n",
       "      <th>...</th>\n",
       "      <td>...</td>\n",
       "      <td>...</td>\n",
       "      <td>...</td>\n",
       "      <td>...</td>\n",
       "      <td>...</td>\n",
       "      <td>...</td>\n",
       "      <td>...</td>\n",
       "      <td>...</td>\n",
       "      <td>...</td>\n",
       "      <td>...</td>\n",
       "      <td>...</td>\n",
       "      <td>...</td>\n",
       "      <td>...</td>\n",
       "      <td>...</td>\n",
       "      <td>...</td>\n",
       "      <td>...</td>\n",
       "      <td>...</td>\n",
       "      <td>...</td>\n",
       "      <td>...</td>\n",
       "      <td>...</td>\n",
       "      <td>...</td>\n",
       "    </tr>\n",
       "    <tr>\n",
       "      <th>29996</th>\n",
       "      <td>220000</td>\n",
       "      <td>1</td>\n",
       "      <td>3</td>\n",
       "      <td>1</td>\n",
       "      <td>39</td>\n",
       "      <td>0</td>\n",
       "      <td>0</td>\n",
       "      <td>0</td>\n",
       "      <td>0</td>\n",
       "      <td>0</td>\n",
       "      <td>...</td>\n",
       "      <td>88004</td>\n",
       "      <td>31237</td>\n",
       "      <td>15980</td>\n",
       "      <td>8500</td>\n",
       "      <td>20000</td>\n",
       "      <td>5003</td>\n",
       "      <td>3047</td>\n",
       "      <td>5000</td>\n",
       "      <td>1000</td>\n",
       "      <td>0</td>\n",
       "    </tr>\n",
       "    <tr>\n",
       "      <th>29997</th>\n",
       "      <td>150000</td>\n",
       "      <td>1</td>\n",
       "      <td>3</td>\n",
       "      <td>2</td>\n",
       "      <td>43</td>\n",
       "      <td>-1</td>\n",
       "      <td>-1</td>\n",
       "      <td>-1</td>\n",
       "      <td>-1</td>\n",
       "      <td>0</td>\n",
       "      <td>...</td>\n",
       "      <td>8979</td>\n",
       "      <td>5190</td>\n",
       "      <td>0</td>\n",
       "      <td>1837</td>\n",
       "      <td>3526</td>\n",
       "      <td>8998</td>\n",
       "      <td>129</td>\n",
       "      <td>0</td>\n",
       "      <td>0</td>\n",
       "      <td>0</td>\n",
       "    </tr>\n",
       "    <tr>\n",
       "      <th>29998</th>\n",
       "      <td>30000</td>\n",
       "      <td>1</td>\n",
       "      <td>2</td>\n",
       "      <td>2</td>\n",
       "      <td>37</td>\n",
       "      <td>4</td>\n",
       "      <td>3</td>\n",
       "      <td>2</td>\n",
       "      <td>-1</td>\n",
       "      <td>0</td>\n",
       "      <td>...</td>\n",
       "      <td>20878</td>\n",
       "      <td>20582</td>\n",
       "      <td>19357</td>\n",
       "      <td>0</td>\n",
       "      <td>0</td>\n",
       "      <td>22000</td>\n",
       "      <td>4200</td>\n",
       "      <td>2000</td>\n",
       "      <td>3100</td>\n",
       "      <td>1</td>\n",
       "    </tr>\n",
       "    <tr>\n",
       "      <th>29999</th>\n",
       "      <td>80000</td>\n",
       "      <td>1</td>\n",
       "      <td>3</td>\n",
       "      <td>1</td>\n",
       "      <td>41</td>\n",
       "      <td>1</td>\n",
       "      <td>-1</td>\n",
       "      <td>0</td>\n",
       "      <td>0</td>\n",
       "      <td>0</td>\n",
       "      <td>...</td>\n",
       "      <td>52774</td>\n",
       "      <td>11855</td>\n",
       "      <td>48944</td>\n",
       "      <td>85900</td>\n",
       "      <td>3409</td>\n",
       "      <td>1178</td>\n",
       "      <td>1926</td>\n",
       "      <td>52964</td>\n",
       "      <td>1804</td>\n",
       "      <td>1</td>\n",
       "    </tr>\n",
       "    <tr>\n",
       "      <th>30000</th>\n",
       "      <td>50000</td>\n",
       "      <td>1</td>\n",
       "      <td>2</td>\n",
       "      <td>1</td>\n",
       "      <td>46</td>\n",
       "      <td>0</td>\n",
       "      <td>0</td>\n",
       "      <td>0</td>\n",
       "      <td>0</td>\n",
       "      <td>0</td>\n",
       "      <td>...</td>\n",
       "      <td>36535</td>\n",
       "      <td>32428</td>\n",
       "      <td>15313</td>\n",
       "      <td>2078</td>\n",
       "      <td>1800</td>\n",
       "      <td>1430</td>\n",
       "      <td>1000</td>\n",
       "      <td>1000</td>\n",
       "      <td>1000</td>\n",
       "      <td>1</td>\n",
       "    </tr>\n",
       "  </tbody>\n",
       "</table>\n",
       "<p>30000 rows × 24 columns</p>\n",
       "</div>"
      ],
      "text/plain": [
       "       LIMIT_BAL  SEX  EDUCATION  MARRIAGE  AGE  PAY_0  PAY_2  PAY_3  PAY_4  \\\n",
       "ID                                                                            \n",
       "1          20000    2          2         1   24      2      2     -1     -1   \n",
       "2         120000    2          2         2   26     -1      2      0      0   \n",
       "3          90000    2          2         2   34      0      0      0      0   \n",
       "4          50000    2          2         1   37      0      0      0      0   \n",
       "5          50000    1          2         1   57     -1      0     -1      0   \n",
       "...          ...  ...        ...       ...  ...    ...    ...    ...    ...   \n",
       "29996     220000    1          3         1   39      0      0      0      0   \n",
       "29997     150000    1          3         2   43     -1     -1     -1     -1   \n",
       "29998      30000    1          2         2   37      4      3      2     -1   \n",
       "29999      80000    1          3         1   41      1     -1      0      0   \n",
       "30000      50000    1          2         1   46      0      0      0      0   \n",
       "\n",
       "       PAY_5  ...  BILL_AMT4  BILL_AMT5  BILL_AMT6  PAY_AMT1  PAY_AMT2  \\\n",
       "ID            ...                                                        \n",
       "1         -2  ...          0          0          0         0       689   \n",
       "2          0  ...       3272       3455       3261         0      1000   \n",
       "3          0  ...      14331      14948      15549      1518      1500   \n",
       "4          0  ...      28314      28959      29547      2000      2019   \n",
       "5          0  ...      20940      19146      19131      2000     36681   \n",
       "...      ...  ...        ...        ...        ...       ...       ...   \n",
       "29996      0  ...      88004      31237      15980      8500     20000   \n",
       "29997      0  ...       8979       5190          0      1837      3526   \n",
       "29998      0  ...      20878      20582      19357         0         0   \n",
       "29999      0  ...      52774      11855      48944     85900      3409   \n",
       "30000      0  ...      36535      32428      15313      2078      1800   \n",
       "\n",
       "       PAY_AMT3  PAY_AMT4  PAY_AMT5  PAY_AMT6  default payment next month  \n",
       "ID                                                                         \n",
       "1             0         0         0         0                           1  \n",
       "2          1000      1000         0      2000                           1  \n",
       "3          1000      1000      1000      5000                           0  \n",
       "4          1200      1100      1069      1000                           0  \n",
       "5         10000      9000       689       679                           0  \n",
       "...         ...       ...       ...       ...                         ...  \n",
       "29996      5003      3047      5000      1000                           0  \n",
       "29997      8998       129         0         0                           0  \n",
       "29998     22000      4200      2000      3100                           1  \n",
       "29999      1178      1926     52964      1804                           1  \n",
       "30000      1430      1000      1000      1000                           1  \n",
       "\n",
       "[30000 rows x 24 columns]"
      ]
     },
     "execution_count": 2,
     "metadata": {},
     "output_type": "execute_result"
    }
   ],
   "source": [
    "dataset = pd.read_excel('dsc_interview_assignment.xlsx', sheet_name=\"Data\", header=1, index_col='ID')\n",
    "dataset"
   ]
  },
  {
   "cell_type": "markdown",
   "id": "6bbb1959",
   "metadata": {},
   "source": [
    "# EDA"
   ]
  },
  {
   "cell_type": "markdown",
   "id": "b9155db7",
   "metadata": {},
   "source": [
    "GET INSIGHT ABOUT DATA"
   ]
  },
  {
   "cell_type": "code",
   "execution_count": 3,
   "id": "5abfbdc2",
   "metadata": {
    "scrolled": false
   },
   "outputs": [
    {
     "name": "stdout",
     "output_type": "stream",
     "text": [
      "<class 'pandas.core.frame.DataFrame'>\n",
      "Int64Index: 30000 entries, 1 to 30000\n",
      "Data columns (total 24 columns):\n",
      " #   Column                      Non-Null Count  Dtype\n",
      "---  ------                      --------------  -----\n",
      " 0   LIMIT_BAL                   30000 non-null  int64\n",
      " 1   SEX                         30000 non-null  int64\n",
      " 2   EDUCATION                   30000 non-null  int64\n",
      " 3   MARRIAGE                    30000 non-null  int64\n",
      " 4   AGE                         30000 non-null  int64\n",
      " 5   PAY_0                       30000 non-null  int64\n",
      " 6   PAY_2                       30000 non-null  int64\n",
      " 7   PAY_3                       30000 non-null  int64\n",
      " 8   PAY_4                       30000 non-null  int64\n",
      " 9   PAY_5                       30000 non-null  int64\n",
      " 10  PAY_6                       30000 non-null  int64\n",
      " 11  BILL_AMT1                   30000 non-null  int64\n",
      " 12  BILL_AMT2                   30000 non-null  int64\n",
      " 13  BILL_AMT3                   30000 non-null  int64\n",
      " 14  BILL_AMT4                   30000 non-null  int64\n",
      " 15  BILL_AMT5                   30000 non-null  int64\n",
      " 16  BILL_AMT6                   30000 non-null  int64\n",
      " 17  PAY_AMT1                    30000 non-null  int64\n",
      " 18  PAY_AMT2                    30000 non-null  int64\n",
      " 19  PAY_AMT3                    30000 non-null  int64\n",
      " 20  PAY_AMT4                    30000 non-null  int64\n",
      " 21  PAY_AMT5                    30000 non-null  int64\n",
      " 22  PAY_AMT6                    30000 non-null  int64\n",
      " 23  default payment next month  30000 non-null  int64\n",
      "dtypes: int64(24)\n",
      "memory usage: 5.7 MB\n"
     ]
    }
   ],
   "source": [
    "dataset.info()"
   ]
  },
  {
   "cell_type": "code",
   "execution_count": 6,
   "id": "66bb074f",
   "metadata": {
    "scrolled": true
   },
   "outputs": [
    {
     "data": {
      "text/html": [
       "<div>\n",
       "<style scoped>\n",
       "    .dataframe tbody tr th:only-of-type {\n",
       "        vertical-align: middle;\n",
       "    }\n",
       "\n",
       "    .dataframe tbody tr th {\n",
       "        vertical-align: top;\n",
       "    }\n",
       "\n",
       "    .dataframe thead th {\n",
       "        text-align: right;\n",
       "    }\n",
       "</style>\n",
       "<table border=\"1\" class=\"dataframe\">\n",
       "  <thead>\n",
       "    <tr style=\"text-align: right;\">\n",
       "      <th></th>\n",
       "      <th>count</th>\n",
       "      <th>mean</th>\n",
       "      <th>std</th>\n",
       "      <th>min</th>\n",
       "      <th>25%</th>\n",
       "      <th>50%</th>\n",
       "      <th>75%</th>\n",
       "      <th>max</th>\n",
       "    </tr>\n",
       "  </thead>\n",
       "  <tbody>\n",
       "    <tr>\n",
       "      <th>LIMIT_BAL</th>\n",
       "      <td>30000.0</td>\n",
       "      <td>167484.322667</td>\n",
       "      <td>129747.661567</td>\n",
       "      <td>10000.0</td>\n",
       "      <td>50000.00</td>\n",
       "      <td>140000.0</td>\n",
       "      <td>240000.00</td>\n",
       "      <td>1000000.0</td>\n",
       "    </tr>\n",
       "    <tr>\n",
       "      <th>SEX</th>\n",
       "      <td>30000.0</td>\n",
       "      <td>1.603733</td>\n",
       "      <td>0.489129</td>\n",
       "      <td>1.0</td>\n",
       "      <td>1.00</td>\n",
       "      <td>2.0</td>\n",
       "      <td>2.00</td>\n",
       "      <td>2.0</td>\n",
       "    </tr>\n",
       "    <tr>\n",
       "      <th>EDUCATION</th>\n",
       "      <td>30000.0</td>\n",
       "      <td>1.853133</td>\n",
       "      <td>0.790349</td>\n",
       "      <td>0.0</td>\n",
       "      <td>1.00</td>\n",
       "      <td>2.0</td>\n",
       "      <td>2.00</td>\n",
       "      <td>6.0</td>\n",
       "    </tr>\n",
       "    <tr>\n",
       "      <th>MARRIAGE</th>\n",
       "      <td>30000.0</td>\n",
       "      <td>1.551867</td>\n",
       "      <td>0.521970</td>\n",
       "      <td>0.0</td>\n",
       "      <td>1.00</td>\n",
       "      <td>2.0</td>\n",
       "      <td>2.00</td>\n",
       "      <td>3.0</td>\n",
       "    </tr>\n",
       "    <tr>\n",
       "      <th>AGE</th>\n",
       "      <td>30000.0</td>\n",
       "      <td>35.485500</td>\n",
       "      <td>9.217904</td>\n",
       "      <td>21.0</td>\n",
       "      <td>28.00</td>\n",
       "      <td>34.0</td>\n",
       "      <td>41.00</td>\n",
       "      <td>79.0</td>\n",
       "    </tr>\n",
       "    <tr>\n",
       "      <th>PAY_1</th>\n",
       "      <td>30000.0</td>\n",
       "      <td>-0.016700</td>\n",
       "      <td>1.123802</td>\n",
       "      <td>-2.0</td>\n",
       "      <td>-1.00</td>\n",
       "      <td>0.0</td>\n",
       "      <td>0.00</td>\n",
       "      <td>8.0</td>\n",
       "    </tr>\n",
       "    <tr>\n",
       "      <th>PAY_2</th>\n",
       "      <td>30000.0</td>\n",
       "      <td>-0.133767</td>\n",
       "      <td>1.197186</td>\n",
       "      <td>-2.0</td>\n",
       "      <td>-1.00</td>\n",
       "      <td>0.0</td>\n",
       "      <td>0.00</td>\n",
       "      <td>8.0</td>\n",
       "    </tr>\n",
       "    <tr>\n",
       "      <th>PAY_3</th>\n",
       "      <td>30000.0</td>\n",
       "      <td>-0.166200</td>\n",
       "      <td>1.196868</td>\n",
       "      <td>-2.0</td>\n",
       "      <td>-1.00</td>\n",
       "      <td>0.0</td>\n",
       "      <td>0.00</td>\n",
       "      <td>8.0</td>\n",
       "    </tr>\n",
       "    <tr>\n",
       "      <th>PAY_4</th>\n",
       "      <td>30000.0</td>\n",
       "      <td>-0.220667</td>\n",
       "      <td>1.169139</td>\n",
       "      <td>-2.0</td>\n",
       "      <td>-1.00</td>\n",
       "      <td>0.0</td>\n",
       "      <td>0.00</td>\n",
       "      <td>8.0</td>\n",
       "    </tr>\n",
       "    <tr>\n",
       "      <th>PAY_5</th>\n",
       "      <td>30000.0</td>\n",
       "      <td>-0.266200</td>\n",
       "      <td>1.133187</td>\n",
       "      <td>-2.0</td>\n",
       "      <td>-1.00</td>\n",
       "      <td>0.0</td>\n",
       "      <td>0.00</td>\n",
       "      <td>8.0</td>\n",
       "    </tr>\n",
       "    <tr>\n",
       "      <th>PAY_6</th>\n",
       "      <td>30000.0</td>\n",
       "      <td>-0.291100</td>\n",
       "      <td>1.149988</td>\n",
       "      <td>-2.0</td>\n",
       "      <td>-1.00</td>\n",
       "      <td>0.0</td>\n",
       "      <td>0.00</td>\n",
       "      <td>8.0</td>\n",
       "    </tr>\n",
       "    <tr>\n",
       "      <th>BILL_AMT1</th>\n",
       "      <td>30000.0</td>\n",
       "      <td>51223.330900</td>\n",
       "      <td>73635.860576</td>\n",
       "      <td>-165580.0</td>\n",
       "      <td>3558.75</td>\n",
       "      <td>22381.5</td>\n",
       "      <td>67091.00</td>\n",
       "      <td>964511.0</td>\n",
       "    </tr>\n",
       "    <tr>\n",
       "      <th>BILL_AMT2</th>\n",
       "      <td>30000.0</td>\n",
       "      <td>49179.075167</td>\n",
       "      <td>71173.768783</td>\n",
       "      <td>-69777.0</td>\n",
       "      <td>2984.75</td>\n",
       "      <td>21200.0</td>\n",
       "      <td>64006.25</td>\n",
       "      <td>983931.0</td>\n",
       "    </tr>\n",
       "    <tr>\n",
       "      <th>BILL_AMT3</th>\n",
       "      <td>30000.0</td>\n",
       "      <td>47013.154800</td>\n",
       "      <td>69349.387427</td>\n",
       "      <td>-157264.0</td>\n",
       "      <td>2666.25</td>\n",
       "      <td>20088.5</td>\n",
       "      <td>60164.75</td>\n",
       "      <td>1664089.0</td>\n",
       "    </tr>\n",
       "    <tr>\n",
       "      <th>BILL_AMT4</th>\n",
       "      <td>30000.0</td>\n",
       "      <td>43262.948967</td>\n",
       "      <td>64332.856134</td>\n",
       "      <td>-170000.0</td>\n",
       "      <td>2326.75</td>\n",
       "      <td>19052.0</td>\n",
       "      <td>54506.00</td>\n",
       "      <td>891586.0</td>\n",
       "    </tr>\n",
       "    <tr>\n",
       "      <th>BILL_AMT5</th>\n",
       "      <td>30000.0</td>\n",
       "      <td>40311.400967</td>\n",
       "      <td>60797.155770</td>\n",
       "      <td>-81334.0</td>\n",
       "      <td>1763.00</td>\n",
       "      <td>18104.5</td>\n",
       "      <td>50190.50</td>\n",
       "      <td>927171.0</td>\n",
       "    </tr>\n",
       "    <tr>\n",
       "      <th>BILL_AMT6</th>\n",
       "      <td>30000.0</td>\n",
       "      <td>38871.760400</td>\n",
       "      <td>59554.107537</td>\n",
       "      <td>-339603.0</td>\n",
       "      <td>1256.00</td>\n",
       "      <td>17071.0</td>\n",
       "      <td>49198.25</td>\n",
       "      <td>961664.0</td>\n",
       "    </tr>\n",
       "    <tr>\n",
       "      <th>PAY_AMT1</th>\n",
       "      <td>30000.0</td>\n",
       "      <td>5663.580500</td>\n",
       "      <td>16563.280354</td>\n",
       "      <td>0.0</td>\n",
       "      <td>1000.00</td>\n",
       "      <td>2100.0</td>\n",
       "      <td>5006.00</td>\n",
       "      <td>873552.0</td>\n",
       "    </tr>\n",
       "    <tr>\n",
       "      <th>PAY_AMT2</th>\n",
       "      <td>30000.0</td>\n",
       "      <td>5921.163500</td>\n",
       "      <td>23040.870402</td>\n",
       "      <td>0.0</td>\n",
       "      <td>833.00</td>\n",
       "      <td>2009.0</td>\n",
       "      <td>5000.00</td>\n",
       "      <td>1684259.0</td>\n",
       "    </tr>\n",
       "    <tr>\n",
       "      <th>PAY_AMT3</th>\n",
       "      <td>30000.0</td>\n",
       "      <td>5225.681500</td>\n",
       "      <td>17606.961470</td>\n",
       "      <td>0.0</td>\n",
       "      <td>390.00</td>\n",
       "      <td>1800.0</td>\n",
       "      <td>4505.00</td>\n",
       "      <td>896040.0</td>\n",
       "    </tr>\n",
       "    <tr>\n",
       "      <th>PAY_AMT4</th>\n",
       "      <td>30000.0</td>\n",
       "      <td>4826.076867</td>\n",
       "      <td>15666.159744</td>\n",
       "      <td>0.0</td>\n",
       "      <td>296.00</td>\n",
       "      <td>1500.0</td>\n",
       "      <td>4013.25</td>\n",
       "      <td>621000.0</td>\n",
       "    </tr>\n",
       "    <tr>\n",
       "      <th>PAY_AMT5</th>\n",
       "      <td>30000.0</td>\n",
       "      <td>4799.387633</td>\n",
       "      <td>15278.305679</td>\n",
       "      <td>0.0</td>\n",
       "      <td>252.50</td>\n",
       "      <td>1500.0</td>\n",
       "      <td>4031.50</td>\n",
       "      <td>426529.0</td>\n",
       "    </tr>\n",
       "    <tr>\n",
       "      <th>PAY_AMT6</th>\n",
       "      <td>30000.0</td>\n",
       "      <td>5215.502567</td>\n",
       "      <td>17777.465775</td>\n",
       "      <td>0.0</td>\n",
       "      <td>117.75</td>\n",
       "      <td>1500.0</td>\n",
       "      <td>4000.00</td>\n",
       "      <td>528666.0</td>\n",
       "    </tr>\n",
       "    <tr>\n",
       "      <th>DEFAULT_PAY</th>\n",
       "      <td>30000.0</td>\n",
       "      <td>0.221200</td>\n",
       "      <td>0.415062</td>\n",
       "      <td>0.0</td>\n",
       "      <td>0.00</td>\n",
       "      <td>0.0</td>\n",
       "      <td>0.00</td>\n",
       "      <td>1.0</td>\n",
       "    </tr>\n",
       "  </tbody>\n",
       "</table>\n",
       "</div>"
      ],
      "text/plain": [
       "               count           mean            std       min       25%  \\\n",
       "LIMIT_BAL    30000.0  167484.322667  129747.661567   10000.0  50000.00   \n",
       "SEX          30000.0       1.603733       0.489129       1.0      1.00   \n",
       "EDUCATION    30000.0       1.853133       0.790349       0.0      1.00   \n",
       "MARRIAGE     30000.0       1.551867       0.521970       0.0      1.00   \n",
       "AGE          30000.0      35.485500       9.217904      21.0     28.00   \n",
       "PAY_1        30000.0      -0.016700       1.123802      -2.0     -1.00   \n",
       "PAY_2        30000.0      -0.133767       1.197186      -2.0     -1.00   \n",
       "PAY_3        30000.0      -0.166200       1.196868      -2.0     -1.00   \n",
       "PAY_4        30000.0      -0.220667       1.169139      -2.0     -1.00   \n",
       "PAY_5        30000.0      -0.266200       1.133187      -2.0     -1.00   \n",
       "PAY_6        30000.0      -0.291100       1.149988      -2.0     -1.00   \n",
       "BILL_AMT1    30000.0   51223.330900   73635.860576 -165580.0   3558.75   \n",
       "BILL_AMT2    30000.0   49179.075167   71173.768783  -69777.0   2984.75   \n",
       "BILL_AMT3    30000.0   47013.154800   69349.387427 -157264.0   2666.25   \n",
       "BILL_AMT4    30000.0   43262.948967   64332.856134 -170000.0   2326.75   \n",
       "BILL_AMT5    30000.0   40311.400967   60797.155770  -81334.0   1763.00   \n",
       "BILL_AMT6    30000.0   38871.760400   59554.107537 -339603.0   1256.00   \n",
       "PAY_AMT1     30000.0    5663.580500   16563.280354       0.0   1000.00   \n",
       "PAY_AMT2     30000.0    5921.163500   23040.870402       0.0    833.00   \n",
       "PAY_AMT3     30000.0    5225.681500   17606.961470       0.0    390.00   \n",
       "PAY_AMT4     30000.0    4826.076867   15666.159744       0.0    296.00   \n",
       "PAY_AMT5     30000.0    4799.387633   15278.305679       0.0    252.50   \n",
       "PAY_AMT6     30000.0    5215.502567   17777.465775       0.0    117.75   \n",
       "DEFAULT_PAY  30000.0       0.221200       0.415062       0.0      0.00   \n",
       "\n",
       "                  50%        75%        max  \n",
       "LIMIT_BAL    140000.0  240000.00  1000000.0  \n",
       "SEX               2.0       2.00        2.0  \n",
       "EDUCATION         2.0       2.00        6.0  \n",
       "MARRIAGE          2.0       2.00        3.0  \n",
       "AGE              34.0      41.00       79.0  \n",
       "PAY_1             0.0       0.00        8.0  \n",
       "PAY_2             0.0       0.00        8.0  \n",
       "PAY_3             0.0       0.00        8.0  \n",
       "PAY_4             0.0       0.00        8.0  \n",
       "PAY_5             0.0       0.00        8.0  \n",
       "PAY_6             0.0       0.00        8.0  \n",
       "BILL_AMT1     22381.5   67091.00   964511.0  \n",
       "BILL_AMT2     21200.0   64006.25   983931.0  \n",
       "BILL_AMT3     20088.5   60164.75  1664089.0  \n",
       "BILL_AMT4     19052.0   54506.00   891586.0  \n",
       "BILL_AMT5     18104.5   50190.50   927171.0  \n",
       "BILL_AMT6     17071.0   49198.25   961664.0  \n",
       "PAY_AMT1       2100.0    5006.00   873552.0  \n",
       "PAY_AMT2       2009.0    5000.00  1684259.0  \n",
       "PAY_AMT3       1800.0    4505.00   896040.0  \n",
       "PAY_AMT4       1500.0    4013.25   621000.0  \n",
       "PAY_AMT5       1500.0    4031.50   426529.0  \n",
       "PAY_AMT6       1500.0    4000.00   528666.0  \n",
       "DEFAULT_PAY       0.0       0.00        1.0  "
      ]
     },
     "execution_count": 6,
     "metadata": {},
     "output_type": "execute_result"
    }
   ],
   "source": [
    "dataset.describe().transpose()"
   ]
  },
  {
   "cell_type": "markdown",
   "id": "0703fa59",
   "metadata": {},
   "source": [
    "DATA DISTRIBUTION BASED ON LIMIT_BAL"
   ]
  },
  {
   "cell_type": "code",
   "execution_count": 7,
   "id": "34ec058c",
   "metadata": {},
   "outputs": [
    {
     "data": {
      "text/plain": [
       "<seaborn.axisgrid.FacetGrid at 0x11fe30eca30>"
      ]
     },
     "execution_count": 7,
     "metadata": {},
     "output_type": "execute_result"
    },
    {
     "data": {
      "image/png": "[encoded data removed]",
      "text/plain": [
       "<Figure size 360x360 with 1 Axes>"
      ]
     },
     "metadata": {
      "needs_background": "light"
     },
     "output_type": "display_data"
    }
   ],
   "source": [
    "sns.displot(dataset['LIMIT_BAL'])"
   ]
  },
  {
   "cell_type": "markdown",
   "id": "d253b1d7",
   "metadata": {},
   "source": [
    "PERCENTAGE OF GENDER IN DATA"
   ]
  },
  {
   "cell_type": "code",
   "execution_count": 8,
   "id": "a1502760",
   "metadata": {},
   "outputs": [
    {
     "data": {
      "text/plain": [
       "<AxesSubplot:>"
      ]
     },
     "execution_count": 8,
     "metadata": {},
     "output_type": "execute_result"
    },
    {
     "data": {
      "image/png": "[encoded data removed]",
      "text/plain": [
       "<Figure size 432x288 with 1 Axes>"
      ]
     },
     "metadata": {
      "needs_background": "light"
     },
     "output_type": "display_data"
    }
   ],
   "source": [
    "dataset['SEX'].value_counts(normalize=True).plot(kind='bar')"
   ]
  },
  {
   "cell_type": "markdown",
   "id": "f440d883",
   "metadata": {},
   "source": [
    "PERCENTAGE OF DATA BASED ON EDUCATION"
   ]
  },
  {
   "cell_type": "code",
   "execution_count": 9,
   "id": "0ec4a54d",
   "metadata": {
    "scrolled": true
   },
   "outputs": [
    {
     "data": {
      "text/plain": [
       "<AxesSubplot:>"
      ]
     },
     "execution_count": 9,
     "metadata": {},
     "output_type": "execute_result"
    },
    {
     "data": {
      "image/png": "[encoded data removed]",
      "text/plain": [
       "<Figure size 432x288 with 1 Axes>"
      ]
     },
     "metadata": {
      "needs_background": "light"
     },
     "output_type": "display_data"
    }
   ],
   "source": [
    "dataset['EDUCATION'].value_counts(normalize=True).plot(kind='bar')"
   ]
  },
  {
   "cell_type": "markdown",
   "id": "c7f42816",
   "metadata": {},
   "source": [
    "PERCENTAGE OF DATA BASED ON MARITAL STATUS"
   ]
  },
  {
   "cell_type": "code",
   "execution_count": 10,
   "id": "42afdcd1",
   "metadata": {
    "scrolled": true
   },
   "outputs": [
    {
     "data": {
      "text/plain": [
       "<AxesSubplot:>"
      ]
     },
     "execution_count": 10,
     "metadata": {},
     "output_type": "execute_result"
    },
    {
     "data": {
      "image/png": "[encoded data removed]",
      "text/plain": [
       "<Figure size 432x288 with 1 Axes>"
      ]
     },
     "metadata": {
      "needs_background": "light"
     },
     "output_type": "display_data"
    }
   ],
   "source": [
    "dataset['MARRIAGE'].value_counts(normalize=True).plot(kind='bar')"
   ]
  },
  {
   "cell_type": "markdown",
   "id": "568684bb",
   "metadata": {},
   "source": [
    "DISTRIBUTION OF DATA BASED ON AGE"
   ]
  },
  {
   "cell_type": "code",
   "execution_count": 11,
   "id": "2f13e0fb",
   "metadata": {},
   "outputs": [
    {
     "name": "stderr",
     "output_type": "stream",
     "text": [
      "C:\\Users\\YS\\anaconda3\\lib\\site-packages\\seaborn\\distributions.py:2557: FutureWarning: `distplot` is a deprecated function and will be removed in a future version. Please adapt your code to use either `displot` (a figure-level function with similar flexibility) or `histplot` (an axes-level function for histograms).\n",
      "  warnings.warn(msg, FutureWarning)\n"
     ]
    },
    {
     "data": {
      "text/plain": [
       "<AxesSubplot:xlabel='AGE', ylabel='Density'>"
      ]
     },
     "execution_count": 11,
     "metadata": {},
     "output_type": "execute_result"
    },
    {
     "data": {
      "image/png": "[encoded data removed]",
      "text/plain": [
       "<Figure size 432x288 with 1 Axes>"
      ]
     },
     "metadata": {
      "needs_background": "light"
     },
     "output_type": "display_data"
    }
   ],
   "source": [
    "sns.distplot(dataset['AGE'])"
   ]
  },
  {
   "cell_type": "markdown",
   "id": "7cca4c5f",
   "metadata": {},
   "source": [
    "PERCENTAGE OF TARGET VARIABLE FROM DATA"
   ]
  },
  {
   "cell_type": "code",
   "execution_count": 12,
   "id": "20832e64",
   "metadata": {
    "scrolled": true
   },
   "outputs": [
    {
     "data": {
      "text/plain": [
       "<AxesSubplot:>"
      ]
     },
     "execution_count": 12,
     "metadata": {},
     "output_type": "execute_result"
    },
    {
     "data": {
      "image/png": "[encoded data removed]",
      "text/plain": [
       "<Figure size 432x288 with 1 Axes>"
      ]
     },
     "metadata": {
      "needs_background": "light"
     },
     "output_type": "display_data"
    }
   ],
   "source": [
    "dataset['DEFAULT_PAY'].value_counts(normalize=True).plot(kind='bar')"
   ]
  },
  {
   "cell_type": "markdown",
   "id": "2143e830",
   "metadata": {},
   "source": [
    "# DATA CLEANING"
   ]
  },
  {
   "cell_type": "markdown",
   "id": "ac75bf2b",
   "metadata": {},
   "source": [
    "RENAME DIFFICULT COLUMN"
   ]
  },
  {
   "cell_type": "code",
   "execution_count": 4,
   "id": "7f5191b5",
   "metadata": {},
   "outputs": [
    {
     "name": "stdout",
     "output_type": "stream",
     "text": [
      "<class 'pandas.core.frame.DataFrame'>\n",
      "Int64Index: 30000 entries, 1 to 30000\n",
      "Data columns (total 24 columns):\n",
      " #   Column       Non-Null Count  Dtype\n",
      "---  ------       --------------  -----\n",
      " 0   LIMIT_BAL    30000 non-null  int64\n",
      " 1   SEX          30000 non-null  int64\n",
      " 2   EDUCATION    30000 non-null  int64\n",
      " 3   MARRIAGE     30000 non-null  int64\n",
      " 4   AGE          30000 non-null  int64\n",
      " 5   PAY_1        30000 non-null  int64\n",
      " 6   PAY_2        30000 non-null  int64\n",
      " 7   PAY_3        30000 non-null  int64\n",
      " 8   PAY_4        30000 non-null  int64\n",
      " 9   PAY_5        30000 non-null  int64\n",
      " 10  PAY_6        30000 non-null  int64\n",
      " 11  BILL_AMT1    30000 non-null  int64\n",
      " 12  BILL_AMT2    30000 non-null  int64\n",
      " 13  BILL_AMT3    30000 non-null  int64\n",
      " 14  BILL_AMT4    30000 non-null  int64\n",
      " 15  BILL_AMT5    30000 non-null  int64\n",
      " 16  BILL_AMT6    30000 non-null  int64\n",
      " 17  PAY_AMT1     30000 non-null  int64\n",
      " 18  PAY_AMT2     30000 non-null  int64\n",
      " 19  PAY_AMT3     30000 non-null  int64\n",
      " 20  PAY_AMT4     30000 non-null  int64\n",
      " 21  PAY_AMT5     30000 non-null  int64\n",
      " 22  PAY_AMT6     30000 non-null  int64\n",
      " 23  DEFAULT_PAY  30000 non-null  int64\n",
      "dtypes: int64(24)\n",
      "memory usage: 5.7 MB\n"
     ]
    }
   ],
   "source": [
    "dataset.rename(columns = {'PAY_0':'PAY_1', 'default payment next month':'DEFAULT_PAY'}, inplace = True)\n",
    "dataset.info()"
   ]
  },
  {
   "cell_type": "markdown",
   "id": "6cbca01c",
   "metadata": {},
   "source": [
    "CHECK FOR NULL VALUES"
   ]
  },
  {
   "cell_type": "code",
   "execution_count": 5,
   "id": "5f3ead15",
   "metadata": {},
   "outputs": [
    {
     "data": {
      "text/plain": [
       "LIMIT_BAL      0\n",
       "SEX            0\n",
       "EDUCATION      0\n",
       "MARRIAGE       0\n",
       "AGE            0\n",
       "PAY_1          0\n",
       "PAY_2          0\n",
       "PAY_3          0\n",
       "PAY_4          0\n",
       "PAY_5          0\n",
       "PAY_6          0\n",
       "BILL_AMT1      0\n",
       "BILL_AMT2      0\n",
       "BILL_AMT3      0\n",
       "BILL_AMT4      0\n",
       "BILL_AMT5      0\n",
       "BILL_AMT6      0\n",
       "PAY_AMT1       0\n",
       "PAY_AMT2       0\n",
       "PAY_AMT3       0\n",
       "PAY_AMT4       0\n",
       "PAY_AMT5       0\n",
       "PAY_AMT6       0\n",
       "DEFAULT_PAY    0\n",
       "dtype: int64"
      ]
     },
     "execution_count": 5,
     "metadata": {},
     "output_type": "execute_result"
    }
   ],
   "source": [
    "dataset.isna().sum()"
   ]
  },
  {
   "cell_type": "markdown",
   "id": "17dccff6",
   "metadata": {},
   "source": [
    "CHANGE TYPE OF COLUMNS"
   ]
  },
  {
   "cell_type": "code",
   "execution_count": 15,
   "id": "444c1df7",
   "metadata": {},
   "outputs": [
    {
     "name": "stdout",
     "output_type": "stream",
     "text": [
      "<class 'pandas.core.frame.DataFrame'>\n",
      "Int64Index: 30000 entries, 1 to 30000\n",
      "Data columns (total 24 columns):\n",
      " #   Column       Non-Null Count  Dtype   \n",
      "---  ------       --------------  -----   \n",
      " 0   LIMIT_BAL    30000 non-null  int64   \n",
      " 1   SEX          30000 non-null  category\n",
      " 2   EDUCATION    30000 non-null  category\n",
      " 3   MARRIAGE     30000 non-null  category\n",
      " 4   AGE          30000 non-null  int64   \n",
      " 5   PAY_1        30000 non-null  int64   \n",
      " 6   PAY_2        30000 non-null  int64   \n",
      " 7   PAY_3        30000 non-null  int64   \n",
      " 8   PAY_4        30000 non-null  int64   \n",
      " 9   PAY_5        30000 non-null  int64   \n",
      " 10  PAY_6        30000 non-null  int64   \n",
      " 11  BILL_AMT1    30000 non-null  int64   \n",
      " 12  BILL_AMT2    30000 non-null  int64   \n",
      " 13  BILL_AMT3    30000 non-null  int64   \n",
      " 14  BILL_AMT4    30000 non-null  int64   \n",
      " 15  BILL_AMT5    30000 non-null  int64   \n",
      " 16  BILL_AMT6    30000 non-null  int64   \n",
      " 17  PAY_AMT1     30000 non-null  int64   \n",
      " 18  PAY_AMT2     30000 non-null  int64   \n",
      " 19  PAY_AMT3     30000 non-null  int64   \n",
      " 20  PAY_AMT4     30000 non-null  int64   \n",
      " 21  PAY_AMT5     30000 non-null  int64   \n",
      " 22  PAY_AMT6     30000 non-null  int64   \n",
      " 23  DEFAULT_PAY  30000 non-null  int64   \n",
      "dtypes: category(3), int64(21)\n",
      "memory usage: 5.1 MB\n"
     ]
    }
   ],
   "source": [
    "dataset = dataset.astype({ 'SEX': 'category', 'EDUCATION': 'category', 'MARRIAGE': 'category'})\n",
    "dataset.info()"
   ]
  },
  {
   "cell_type": "markdown",
   "id": "29c74a24",
   "metadata": {},
   "source": [
    "# FEATURE SELECTION"
   ]
  },
  {
   "cell_type": "markdown",
   "id": "90c42ed1",
   "metadata": {},
   "source": [
    "CORRELATION BETWEEN NUMERICAL COLUMNS USING PEARSON CORRELATION"
   ]
  },
  {
   "cell_type": "code",
   "execution_count": 16,
   "id": "42166e08",
   "metadata": {},
   "outputs": [
    {
     "data": {
      "image/png": "[encoded data removed]",
      "text/plain": [
       "<Figure size 2160x1440 with 2 Axes>"
      ]
     },
     "metadata": {
      "needs_background": "light"
     },
     "output_type": "display_data"
    }
   ],
   "source": [
    "plt.figure(figsize=(30,20))\n",
    "cor = dataset.corr()\n",
    "sns.heatmap(cor, annot=True, cmap=plt.cm.Reds)\n",
    "\n",
    "plt.show()"
   ]
  },
  {
   "cell_type": "markdown",
   "id": "85d8c532",
   "metadata": {},
   "source": [
    "ONLY PAY_1, PAY_2, PAY_3, PAY_4, PAY_5, PAY_6 HAVE GOOD LINEAR CORRELATION WITH THE TARGET VARIABLE HENCE THESE VARIABLES WILL BE CHOSEN FOR MODEL TRAINING"
   ]
  },
  {
   "cell_type": "markdown",
   "id": "9230f0da",
   "metadata": {},
   "source": [
    "CORRELATION FOR CATEGORICAL COLUMNS USING CHI SQUARE"
   ]
  },
  {
   "cell_type": "code",
   "execution_count": 17,
   "id": "6fe0862f",
   "metadata": {},
   "outputs": [
    {
     "name": "stdout",
     "output_type": "stream",
     "text": [
      "<class 'pandas.core.frame.DataFrame'>\n",
      "Int64Index: 30000 entries, 1 to 30000\n",
      "Data columns (total 24 columns):\n",
      " #   Column       Non-Null Count  Dtype\n",
      "---  ------       --------------  -----\n",
      " 0   LIMIT_BAL    30000 non-null  int64\n",
      " 1   SEX          30000 non-null  int32\n",
      " 2   EDUCATION    30000 non-null  int32\n",
      " 3   MARRIAGE     30000 non-null  int32\n",
      " 4   AGE          30000 non-null  int64\n",
      " 5   PAY_1        30000 non-null  int64\n",
      " 6   PAY_2        30000 non-null  int64\n",
      " 7   PAY_3        30000 non-null  int64\n",
      " 8   PAY_4        30000 non-null  int64\n",
      " 9   PAY_5        30000 non-null  int64\n",
      " 10  PAY_6        30000 non-null  int64\n",
      " 11  BILL_AMT1    30000 non-null  int64\n",
      " 12  BILL_AMT2    30000 non-null  int64\n",
      " 13  BILL_AMT3    30000 non-null  int64\n",
      " 14  BILL_AMT4    30000 non-null  int64\n",
      " 15  BILL_AMT5    30000 non-null  int64\n",
      " 16  BILL_AMT6    30000 non-null  int64\n",
      " 17  PAY_AMT1     30000 non-null  int64\n",
      " 18  PAY_AMT2     30000 non-null  int64\n",
      " 19  PAY_AMT3     30000 non-null  int64\n",
      " 20  PAY_AMT4     30000 non-null  int64\n",
      " 21  PAY_AMT5     30000 non-null  int64\n",
      " 22  PAY_AMT6     30000 non-null  int64\n",
      " 23  DEFAULT_PAY  30000 non-null  int64\n",
      "dtypes: int32(3), int64(21)\n",
      "memory usage: 5.4 MB\n"
     ]
    }
   ],
   "source": [
    "dataset = dataset.astype({ 'SEX': int, 'EDUCATION': int, 'MARRIAGE': int})\n",
    "dataset.info()"
   ]
  },
  {
   "cell_type": "code",
   "execution_count": 18,
   "id": "71c166cd",
   "metadata": {},
   "outputs": [],
   "source": [
    "from sklearn.feature_selection import chi2\n",
    "\n",
    "cat_columns = ['SEX', 'EDUCATION', 'MARRIAGE']\n",
    "x = dataset[cat_columns]\n",
    "y = dataset['DEFAULT_PAY']"
   ]
  },
  {
   "cell_type": "code",
   "execution_count": 21,
   "id": "ac10e02a",
   "metadata": {},
   "outputs": [
    {
     "data": {
      "text/plain": [
       "ID\n",
       "1        1\n",
       "2        1\n",
       "3        0\n",
       "4        0\n",
       "5        0\n",
       "        ..\n",
       "29996    0\n",
       "29997    0\n",
       "29998    1\n",
       "29999    1\n",
       "30000    1\n",
       "Name: DEFAULT_PAY, Length: 30000, dtype: int64"
      ]
     },
     "execution_count": 21,
     "metadata": {},
     "output_type": "execute_result"
    }
   ],
   "source": [
    "y"
   ]
  },
  {
   "cell_type": "code",
   "execution_count": 22,
   "id": "1162be6c",
   "metadata": {},
   "outputs": [
    {
     "data": {
      "text/html": [
       "<div>\n",
       "<style scoped>\n",
       "    .dataframe tbody tr th:only-of-type {\n",
       "        vertical-align: middle;\n",
       "    }\n",
       "\n",
       "    .dataframe tbody tr th {\n",
       "        vertical-align: top;\n",
       "    }\n",
       "\n",
       "    .dataframe thead th {\n",
       "        text-align: right;\n",
       "    }\n",
       "</style>\n",
       "<table border=\"1\" class=\"dataframe\">\n",
       "  <thead>\n",
       "    <tr style=\"text-align: right;\">\n",
       "      <th></th>\n",
       "      <th>SEX</th>\n",
       "      <th>EDUCATION</th>\n",
       "      <th>MARRIAGE</th>\n",
       "    </tr>\n",
       "    <tr>\n",
       "      <th>ID</th>\n",
       "      <th></th>\n",
       "      <th></th>\n",
       "      <th></th>\n",
       "    </tr>\n",
       "  </thead>\n",
       "  <tbody>\n",
       "    <tr>\n",
       "      <th>1</th>\n",
       "      <td>2</td>\n",
       "      <td>2</td>\n",
       "      <td>1</td>\n",
       "    </tr>\n",
       "    <tr>\n",
       "      <th>2</th>\n",
       "      <td>2</td>\n",
       "      <td>2</td>\n",
       "      <td>2</td>\n",
       "    </tr>\n",
       "    <tr>\n",
       "      <th>3</th>\n",
       "      <td>2</td>\n",
       "      <td>2</td>\n",
       "      <td>2</td>\n",
       "    </tr>\n",
       "    <tr>\n",
       "      <th>4</th>\n",
       "      <td>2</td>\n",
       "      <td>2</td>\n",
       "      <td>1</td>\n",
       "    </tr>\n",
       "    <tr>\n",
       "      <th>5</th>\n",
       "      <td>1</td>\n",
       "      <td>2</td>\n",
       "      <td>1</td>\n",
       "    </tr>\n",
       "    <tr>\n",
       "      <th>...</th>\n",
       "      <td>...</td>\n",
       "      <td>...</td>\n",
       "      <td>...</td>\n",
       "    </tr>\n",
       "    <tr>\n",
       "      <th>29996</th>\n",
       "      <td>1</td>\n",
       "      <td>3</td>\n",
       "      <td>1</td>\n",
       "    </tr>\n",
       "    <tr>\n",
       "      <th>29997</th>\n",
       "      <td>1</td>\n",
       "      <td>3</td>\n",
       "      <td>2</td>\n",
       "    </tr>\n",
       "    <tr>\n",
       "      <th>29998</th>\n",
       "      <td>1</td>\n",
       "      <td>2</td>\n",
       "      <td>2</td>\n",
       "    </tr>\n",
       "    <tr>\n",
       "      <th>29999</th>\n",
       "      <td>1</td>\n",
       "      <td>3</td>\n",
       "      <td>1</td>\n",
       "    </tr>\n",
       "    <tr>\n",
       "      <th>30000</th>\n",
       "      <td>1</td>\n",
       "      <td>2</td>\n",
       "      <td>1</td>\n",
       "    </tr>\n",
       "  </tbody>\n",
       "</table>\n",
       "<p>30000 rows × 3 columns</p>\n",
       "</div>"
      ],
      "text/plain": [
       "       SEX  EDUCATION  MARRIAGE\n",
       "ID                             \n",
       "1        2          2         1\n",
       "2        2          2         2\n",
       "3        2          2         2\n",
       "4        2          2         1\n",
       "5        1          2         1\n",
       "...    ...        ...       ...\n",
       "29996    1          3         1\n",
       "29997    1          3         2\n",
       "29998    1          2         2\n",
       "29999    1          3         1\n",
       "30000    1          2         1\n",
       "\n",
       "[30000 rows x 3 columns]"
      ]
     },
     "execution_count": 22,
     "metadata": {},
     "output_type": "execute_result"
    }
   ],
   "source": [
    "x"
   ]
  },
  {
   "cell_type": "code",
   "execution_count": 23,
   "id": "b05eac7e",
   "metadata": {},
   "outputs": [
    {
     "data": {
      "text/plain": [
       "(array([7.14636693, 7.93125895, 3.12000976]),\n",
       " array([0.0075116 , 0.0048588 , 0.07733632]))"
      ]
     },
     "execution_count": 23,
     "metadata": {},
     "output_type": "execute_result"
    }
   ],
   "source": [
    "f_score=chi2(x,y)   #returns f score and p value \n",
    "f_score"
   ]
  },
  {
   "cell_type": "code",
   "execution_count": 24,
   "id": "c47fff38",
   "metadata": {},
   "outputs": [
    {
     "data": {
      "text/plain": [
       "MARRIAGE     0.077336\n",
       "SEX          0.007512\n",
       "EDUCATION    0.004859\n",
       "dtype: float64"
      ]
     },
     "execution_count": 24,
     "metadata": {},
     "output_type": "execute_result"
    }
   ],
   "source": [
    "chi_value=pd.Series(f_score[1],index=x.columns)\n",
    "chi_value.sort_values(ascending=False,inplace=True)\n",
    "chi_value"
   ]
  },
  {
   "cell_type": "code",
   "execution_count": 26,
   "id": "6b7db60b",
   "metadata": {},
   "outputs": [
    {
     "data": {
      "image/png": "[encoded data removed]",
      "text/plain": [
       "<Figure size 432x288 with 1 Axes>"
      ]
     },
     "metadata": {
      "needs_background": "light"
     },
     "output_type": "display_data"
    }
   ],
   "source": [
    "chi_value.plot(kind=\"bar\")\n",
    "plt.xlabel(\"Features\")\n",
    "plt.ylabel(\"P-Value\")\n",
    "plt.title(\"Chi Square Feature Correlation\")\n",
    "plt.show()"
   ]
  },
  {
   "cell_type": "markdown",
   "id": "3e3389a5",
   "metadata": {},
   "source": [
    "SINCE MARRIAGE COLUMN HAS HIGHEST VALUE SO IT CANNOT BE CONSIDERED IN MODEL TRAINING"
   ]
  },
  {
   "cell_type": "markdown",
   "id": "4b442f80",
   "metadata": {},
   "source": [
    "# MODEL TRAINING"
   ]
  },
  {
   "cell_type": "markdown",
   "id": "3d31e815",
   "metadata": {},
   "source": [
    "IMPORT LIBRARIES"
   ]
  },
  {
   "cell_type": "code",
   "execution_count": 35,
   "id": "7fe05434",
   "metadata": {},
   "outputs": [],
   "source": [
    "from sklearn.tree import DecisionTreeClassifier\n",
    "from sklearn.model_selection import train_test_split\n",
    "from sklearn.metrics import accuracy_score,classification_report,confusion_matrix,mean_squared_error"
   ]
  },
  {
   "cell_type": "markdown",
   "id": "a44f721b",
   "metadata": {},
   "source": [
    "CHOOSE FEATURES AND SPLIT TEST & TRAIN DATA"
   ]
  },
  {
   "cell_type": "code",
   "execution_count": 29,
   "id": "8b698da3",
   "metadata": {},
   "outputs": [],
   "source": [
    "train_cols = ['SEX', 'EDUCATION', 'PAY_1', 'PAY_2', 'PAY_3', 'PAY_4', 'PAY_5', 'PAY_6']\n",
    "x = dataset[train_cols]\n",
    "y = dataset['DEFAULT_PAY']\n",
    "x_train, x_test, y_train, y_test = train_test_split(x, y, test_size=0.1, random_state=10)"
   ]
  },
  {
   "cell_type": "markdown",
   "id": "4d8169af",
   "metadata": {},
   "source": [
    "CREATE DECISION TREE CLASSIFIER"
   ]
  },
  {
   "cell_type": "code",
   "execution_count": 30,
   "id": "a8f79d03",
   "metadata": {},
   "outputs": [],
   "source": [
    "clf = DecisionTreeClassifier()"
   ]
  },
  {
   "cell_type": "markdown",
   "id": "78ba824a",
   "metadata": {},
   "source": [
    "Train Decision Tree Classifer"
   ]
  },
  {
   "cell_type": "code",
   "execution_count": 32,
   "id": "5c6cdebf",
   "metadata": {},
   "outputs": [],
   "source": [
    "clf = clf.fit(x_train,y_train)"
   ]
  },
  {
   "cell_type": "markdown",
   "id": "6ded3ac7",
   "metadata": {},
   "source": [
    "PREDICT THE TEST DATA"
   ]
  },
  {
   "cell_type": "code",
   "execution_count": 33,
   "id": "6bb470ee",
   "metadata": {},
   "outputs": [
    {
     "data": {
      "text/plain": [
       "array([0, 0, 0, ..., 1, 0, 0], dtype=int64)"
      ]
     },
     "execution_count": 33,
     "metadata": {},
     "output_type": "execute_result"
    }
   ],
   "source": [
    "y_pred = clf.predict(x_test)\n",
    "y_pred"
   ]
  },
  {
   "cell_type": "markdown",
   "id": "d605a7a7",
   "metadata": {},
   "source": [
    "MODEL PERFORMANCE"
   ]
  },
  {
   "cell_type": "code",
   "execution_count": 37,
   "id": "1882b6d9",
   "metadata": {},
   "outputs": [
    {
     "name": "stdout",
     "output_type": "stream",
     "text": [
      "              precision    recall  f1-score   support\n",
      "\n",
      "           0       0.94      0.84      0.89      2621\n",
      "           1       0.37      0.63      0.46       379\n",
      "\n",
      "    accuracy                           0.82      3000\n",
      "   macro avg       0.65      0.74      0.68      3000\n",
      "weighted avg       0.87      0.82      0.84      3000\n",
      "\n",
      "[[2214  407]\n",
      " [ 141  238]]\n",
      "\n",
      "Accuracy Score for model1:  0.8173333333333334\n"
     ]
    }
   ],
   "source": [
    "print(classification_report(y_pred, y_test))\n",
    "print(confusion_matrix(y_pred, y_test))\n",
    "print('\\nAccuracy Score for model1: ', accuracy_score(y_pred, y_test))"
   ]
  }
 ],
 "metadata": {
  "kernelspec": {
   "display_name": "Python 3",
   "language": "python",
   "name": "python3"
  },
  "language_info": {
   "codemirror_mode": {
    "name": "ipython",
    "version": 3
   },
   "file_extension": ".py",
   "mimetype": "text/x-python",
   "name": "python",
   "nbconvert_exporter": "python",
   "pygments_lexer": "ipython3",
   "version": "3.8.8"
  }
 },
 "nbformat": 4,
 "nbformat_minor": 5
}
